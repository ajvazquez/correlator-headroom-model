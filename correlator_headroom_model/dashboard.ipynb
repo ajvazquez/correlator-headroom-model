{
 "cells": [
  {
   "cell_type": "markdown",
   "metadata": {},
   "source": [
    "# Headroom Performance Model for Radio Interferometry Software Correlators\n",
    "\n",
    "Information about model and parameters in [A. J. Vázquez et al 2022 PASP 134 104501](https://doi.org/10.1088/1538-3873/ac8dc2) (Model-based Performance Characterization of Software Correlators for Radio Interferometer Arrays).\n"
   ]
  },
  {
   "cell_type": "code",
   "execution_count": 2,
   "metadata": {},
   "outputs": [
    {
     "data": {
      "application/vnd.jupyter.widget-view+json": {
       "model_id": "5640419b5ca84be48d1011fd71926e91",
       "version_major": 2,
       "version_minor": 0
      },
      "text/plain": [
       "HBox(children=(IntSlider(value=4, description='S', layout=Layout(width='40px'), max=256, min=2, orientation='v…"
      ]
     },
     "metadata": {},
     "output_type": "display_data"
    }
   ],
   "source": [
    "import radio_dashboard\n",
    "radio_dashboard.start()"
   ]
  }
 ],
 "metadata": {
  "kernelspec": {
   "display_name": "Python 3",
   "language": "python",
   "name": "python3"
  },
  "language_info": {
   "codemirror_mode": {
    "name": "ipython",
    "version": 3
   },
   "file_extension": ".py",
   "mimetype": "text/x-python",
   "name": "python",
   "nbconvert_exporter": "python",
   "pygments_lexer": "ipython3",
   "version": "3.8.8"
  }
 },
 "nbformat": 4,
 "nbformat_minor": 4
}
